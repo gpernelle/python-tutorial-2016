{
 "cells": [
  {
   "cell_type": "markdown",
   "metadata": {},
   "source": [
    "# Python Tutorial, Session 1 exercises\n",
    "\n",
    "# Zombie Apocalypse"
   ]
  },
  {
   "cell_type": "markdown",
   "metadata": {},
   "source": [
    "=========================================================================\n",
    "\n",
    "Dear Scientist\n",
    "\n",
    "We have shortly briefed you with the basic of Python programming. Before accepting you on the team, we will test you on this knowledge . If you pass the test, we will start providing you the data of the zombie outbreak.\n",
    "\n",
    "Regards,\n",
    "\n",
    "The Earth Leaders\n",
    "\n",
    "========================================================================="
   ]
  },
  {
   "cell_type": "markdown",
   "metadata": {},
   "source": [
    "Let's start by importing some necessary modules:"
   ]
  },
  {
   "cell_type": "code",
   "execution_count": null,
   "metadata": {
    "collapsed": false
   },
   "outputs": [],
   "source": [
    "import numpy as np\n",
    "import scipy\n",
    "%pylab inline\n",
    "import pylab as plt\n",
    "import scipy.optimize as opt"
   ]
  },
  {
   "cell_type": "markdown",
   "metadata": {},
   "source": [
    "## Part 1: test your Python basics"
   ]
  },
  {
   "cell_type": "markdown",
   "metadata": {},
   "source": [
    "Imagine we have a typical six-sided die, that will give us a value in a finite range with equal probability. We can model this using <tt>np.random.randint</tt>"
   ]
  },
  {
   "cell_type": "code",
   "execution_count": null,
   "metadata": {
    "collapsed": false
   },
   "outputs": [],
   "source": [
    "np.random.randint?"
   ]
  },
  {
   "cell_type": "markdown",
   "metadata": {},
   "source": [
    "We can model a throw by using this method to randomly return a number between 1 and 6 inclusive:"
   ]
  },
  {
   "cell_type": "code",
   "execution_count": null,
   "metadata": {
    "collapsed": false
   },
   "outputs": [],
   "source": [
    "print(np.random.randint(1,7))"
   ]
  },
  {
   "cell_type": "markdown",
   "metadata": {},
   "source": [
    "Executing the cell again will give us another random answer (try it).\n",
    "\n",
    "To roll the die $n$=20 number of times, we can pass $n$ as a parameter to the method through the keyword <tt>size</tt>."
   ]
  },
  {
   "cell_type": "code",
   "execution_count": null,
   "metadata": {
    "collapsed": false
   },
   "outputs": [],
   "source": [
    "n = 20\n",
    "print(np.random.randint(1,7,size=n))"
   ]
  },
  {
   "cell_type": "markdown",
   "metadata": {},
   "source": [
    "So now imagine that we have two dice that we want to roll and each make note of the sum of their two values:"
   ]
  },
  {
   "cell_type": "code",
   "execution_count": null,
   "metadata": {
    "collapsed": false
   },
   "outputs": [],
   "source": [
    "ntimes = 50 \n",
    "d1 = np.random.randint(1,7,ntimes)\n",
    "d2 = np.random.randint(1,7,ntimes)\n",
    "sumdice = d1+d2 # we can do this, as d1 and d2 are each a np.array\n",
    "print(sumdice)"
   ]
  },
  {
   "cell_type": "markdown",
   "metadata": {},
   "source": [
    "If we repeat the rolling $n$ times, we will obtain a distribution. Plotting it will give us some indication (if we happened to skip that day of stats class), as will noting the mean and standard deviation"
   ]
  },
  {
   "cell_type": "markdown",
   "metadata": {},
   "source": [
    "## Reminder: watch the indentation!\n",
    "To define a function (comments are optional but often proved to be useful):\n",
    "```python\n",
    "def squared(x):\n",
    "    a = 'this is inside the function'\n",
    "    return a\n",
    "```\n",
    "\n",
    "Using loops:\n",
    "```python \n",
    "for jj in range(10):\n",
    "    print(jj)\n",
    "print('this is not part of the loop')\n",
    "```"
   ]
  },
  {
   "cell_type": "markdown",
   "metadata": {},
   "source": [
    "**Q1.1 Begin by plotting the histogram of summed distribution, and printing the mean and standard deviation of the distribution**\n",
    "\n",
    "You will probably want to use the following functions (look them up if you're not sure what they do):\n",
    "```python\n",
    "    plt.hist(values,range=(?,?),bins=?)\n",
    "    np.array.mean()\n",
    "    np.array.std()\n",
    "```"
   ]
  },
  {
   "cell_type": "code",
   "execution_count": null,
   "metadata": {
    "collapsed": false
   },
   "outputs": [],
   "source": [
    "#write your code here"
   ]
  },
  {
   "cell_type": "markdown",
   "metadata": {},
   "source": [
    "**Q1.2 Automating the dice throwing** can be performed by creating two functions:\n",
    "\n",
    "(1)\n",
    "```python\n",
    "    get_summed_dice(ntimes)\n",
    "```\n",
    "that generates the distribution of the summed dice for $n$ number of throws, and \n",
    "\n",
    "(2)\n",
    "```python\n",
    "    throw_dice(ntimes)\n",
    "```\n",
    "a wrapper function that takes in $n$ and creates, plots and prints the distribution.\n",
    "\n",
    "**Then for $n$ = 50, 500, 50000 throws, run the code and examine the resulting plots.**\n",
    "\n",
    "* Advanced: consider that you may want to extend the code - think about having more than two dice, or dice that have more (or less) than 6 faces, or not taking the sum but rather the product ... How would you write your code to allow to extend for these possibilities? "
   ]
  },
  {
   "cell_type": "code",
   "execution_count": null,
   "metadata": {
    "collapsed": false
   },
   "outputs": [],
   "source": [
    "#write your code here"
   ]
  },
  {
   "cell_type": "markdown",
   "metadata": {},
   "source": [
    "**Q1.3 For large $n$, a Gaussian (normal) distribution approximates the sum of two uniform distributions**.\n",
    "\n",
    "If we have die 1 and die 2 giving $X_1$ and $X_2$, respectively, and if $Y$ is the sum of $X_1$ and $X_2$, then \n",
    "\n",
    "* $\\mu_y =\\mu_{x_1} + \\mu_{x_2}$\n",
    "* $\\sigma^2_y =\\sigma^2_{x_1} + \\sigma^2_{x_2}$\n",
    "\n",
    "\n",
    "Repeat the code from above, but also plotting the theoretical (analytical) distribution as well as the one you get from your measured values for the mean and standard deviation (numerical). **Hint:** you may want to have a look at norm.pdf from the scipy.stats package."
   ]
  },
  {
   "cell_type": "code",
   "execution_count": null,
   "metadata": {
    "collapsed": false
   },
   "outputs": [],
   "source": [
    "import math\n",
    "import scipy.stats as scist\n",
    "scist.norm.pdf?\n",
    "### some other hints\n",
    "#x = np.linspace(a,b,n) # takes n sample points between a and b\n",
    "#plt.plot(x,y1,'r--',label='sample1') # will plot y1 as a dashed red line\n",
    "#plt.plot(x,y2,'k-',label='sample2') # will plot y2 as a black solid line\n",
    "#plt.legend() # will turn on the legend so that labels 'sample1' and 'sample2' are visible"
   ]
  },
  {
   "cell_type": "code",
   "execution_count": null,
   "metadata": {
    "collapsed": false
   },
   "outputs": [],
   "source": [
    "#write your code here"
   ]
  },
  {
   "cell_type": "markdown",
   "metadata": {},
   "source": [
    "**Advanced Q1.4:** extend the code by creating a new function that will allow us to throw $d$ number of dice $n$ times\n",
    "\n",
    "**Super advanced Q1.5**: further extend it by allowing the user to define whether they'd like to take the sum, mean or product of each throw."
   ]
  },
  {
   "cell_type": "code",
   "execution_count": null,
   "metadata": {
    "collapsed": false
   },
   "outputs": [],
   "source": [
    "#write your code here\n"
   ]
  },
  {
   "cell_type": "markdown",
   "metadata": {},
   "source": [
    "# Part 2: Fitting to Zombie data"
   ]
  },
  {
   "cell_type": "markdown",
   "metadata": {},
   "source": [
    "=========================================================================\n",
    "\n",
    "Dear Scientist\n",
    "\n",
    "Congratulations on passing the test! We now rely on you to combine this knowledge with your extraordinary intelligence and help us find a way to defeat the zombie outbreak! You will receive three assignments today and work towards a strategy to defeat the zombies next session!\n",
    "\n",
    "We count on you!\n",
    "\n",
    "Regards,\n",
    "\n",
    "The Earth Leaders"
   ]
  },
  {
   "cell_type": "markdown",
   "metadata": {},
   "source": [
    "=============================================================================================\n",
    "\n",
    "** Assignment One **\n",
    "\n",
    "The number of people alive is given by a variable S. The number of zombies is given by the variable Z. We have currently collected data in different areas when the number of zombies Z was the constant. \n",
    "\n",
    "Because people can be born, can die naturally, or can become infected with the zombie virus, the amount of S can change. We hypothesize that the change S is given by a polynomial of maximum order 3 (see below), but we want to find a more accurate estimate!\n",
    "\n",
    "$$ a + bS+ cS^2 + dS^3 $$\n",
    "\n",
    "The data is found in the file\n",
    "\n",
    "File: <tt>noisy1.dat</tt>\n",
    "\n",
    "Your tasks:\n",
    "\n",
    "1) Can you find the parameters?\n",
    "\n",
    "2) Comparing the parameter magnitudes, can we simplify our polynomial?\n",
    "\n",
    "3) Don't forget to plot the result!\n",
    "\n",
    "==============================================================================================="
   ]
  },
  {
   "cell_type": "code",
   "execution_count": null,
   "metadata": {
    "collapsed": false
   },
   "outputs": [],
   "source": [
    "# read in the file\n",
    "data = np.loadtxt('noisy1.dat')\n",
    "xs = data[0,:]\n",
    "ys = data[1,:]"
   ]
  },
  {
   "cell_type": "code",
   "execution_count": null,
   "metadata": {
    "collapsed": false
   },
   "outputs": [],
   "source": [
    "# write your code here"
   ]
  },
  {
   "cell_type": "markdown",
   "metadata": {},
   "source": [
    "Thanks to your work, we have been able to adapt our model. The rate of change of people alive is given by\n",
    "\n",
    "$$dS/dt = P - B*S*Z - d*S$$\n",
    "\n",
    "where :\n",
    "\n",
    "    S: the number of susceptible victims\n",
    "    Z: the number of zombies\n",
    "    P: the population birth rate\n",
    "    d: the chance of a natural death\n",
    "    B: the chance the \"zombie disease\" is transmitted (an alive person becomes a zombie)\n",
    "    \n",
    "Based on our incoming data from New York, we estimated a remaining population size S=10000 yesterday. Today, our estimation points at only 9051 survivors. No data shows natural deaths. Using the equation above, can you estimate the number of zombies Z that were in New York?\n",
    "\n",
    "Hint: the derivative dS/dt can be approximated by $$\\Delta S / \\Delta t $$ where the denominator is 1 day."
   ]
  },
  {
   "cell_type": "code",
   "execution_count": null,
   "metadata": {
    "collapsed": true
   },
   "outputs": [],
   "source": [
    "# write your code here"
   ]
  },
  {
   "cell_type": "markdown",
   "metadata": {},
   "source": [
    "=============================================================================================\n",
    "\n",
    "** Assignment Two **\n",
    "\n",
    "We have received new data showing the number of infected people during the past 25 days in Australia!\n",
    "\n",
    "The data is found in the file\n",
    "\n",
    "File: <tt>noisy2.dat</tt>\n",
    "\n",
    "We don't know whether the infection is contained, following a sinusoidal function, or whether it is spreading exponentially. Can you test which will give the best fit?\n",
    "\n",
    "Your tasks:\n",
    "\n",
    "1) Try to fit the data with a cosine - function.\n",
    "\n",
    "2) Try to fit the data with an exponential function.\n",
    "\n",
    "3) Plot the results. Which one matches the data better?\n",
    "\n",
    "==============================================================================================="
   ]
  },
  {
   "cell_type": "code",
   "execution_count": null,
   "metadata": {
    "collapsed": false
   },
   "outputs": [],
   "source": [
    "data = np.loadtxt('noisy2.dat')\n",
    "xs = data[0,:]\n",
    "ys = data[1,:]"
   ]
  },
  {
   "cell_type": "code",
   "execution_count": null,
   "metadata": {
    "collapsed": false
   },
   "outputs": [],
   "source": [
    "# write your code here"
   ]
  },
  {
   "cell_type": "markdown",
   "metadata": {},
   "source": [
    "=============================================================================================\n",
    "\n",
    "** Assignment Three (Advanced) **\n",
    "\n",
    "Top secret data just arrived. We are currently trying to analyse it. We know the following data should contain multiple sinusoidal terms, however we don't know the parameters.\n",
    "\n",
    "The data is found in the file\n",
    "\n",
    "File: <tt>noisy3.dat</tt>\n",
    "\n",
    "Your task:\n",
    "\n",
    "1) Find the best fit using multiple sinusoidal terms.\n",
    "\n",
    "Hint: you may want to consider inspecting the data first to see whether you can get an indication as to how many frequencies there seem to be, as well as some initial values.\n",
    "\n",
    "==============================================================================================="
   ]
  },
  {
   "cell_type": "code",
   "execution_count": null,
   "metadata": {
    "collapsed": false
   },
   "outputs": [],
   "source": [
    "data = np.loadtxt('noisy3.dat')\n",
    "xs = data[0,:]\n",
    "ys = data[1,:]"
   ]
  },
  {
   "cell_type": "code",
   "execution_count": null,
   "metadata": {
    "collapsed": false
   },
   "outputs": [],
   "source": [
    "#write your code here"
   ]
  },
  {
   "cell_type": "markdown",
   "metadata": {},
   "source": [
    "-----------------------------------------\n",
    "Created by S.Jarvis, Nov 2013  \n",
    "Revised by J.Bono and G. Pernelle, Nov 2015, Nov 2016"
   ]
  }
 ],
 "metadata": {
  "anaconda-cloud": {},
  "kernelspec": {
   "display_name": "Python [Root]",
   "language": "python",
   "name": "Python [Root]"
  },
  "language_info": {
   "codemirror_mode": {
    "name": "ipython",
    "version": 3
   },
   "file_extension": ".py",
   "mimetype": "text/x-python",
   "name": "python",
   "nbconvert_exporter": "python",
   "pygments_lexer": "ipython3",
   "version": "3.5.1"
  }
 },
 "nbformat": 4,
 "nbformat_minor": 0
}
