{
 "cells": [
  {
   "cell_type": "markdown",
   "metadata": {},
   "source": [
    "# Python Tutorial, Session 1 exercises\n",
    "\n",
    "# Zombie Apocalypse"
   ]
  },
  {
   "cell_type": "markdown",
   "metadata": {},
   "source": [
    "=========================================================================\n",
    "\n",
    "Dear Scientist\n",
    "\n",
    "We have shortly briefed you with the basic of Python programming. Before accepting you on the team, we will test you on this knowledge . If you pass the test, we will start providing you the data of the zombie outbreak.\n",
    "\n",
    "Regards,\n",
    "\n",
    "The Earth Leaders\n",
    "\n",
    "========================================================================="
   ]
  },
  {
   "cell_type": "markdown",
   "metadata": {},
   "source": [
    "Let's start by importing some necessary modules:"
   ]
  },
  {
   "cell_type": "code",
   "execution_count": null,
   "metadata": {
    "collapsed": false
   },
   "outputs": [],
   "source": [
    "import numpy as np\n",
    "import scipy\n",
    "%pylab inline\n",
    "import pylab as plt\n",
    "import scipy.optimize as opt"
   ]
  },
  {
   "cell_type": "markdown",
   "metadata": {},
   "source": [
    "## Part 1: test your Python basics"
   ]
  },
  {
   "cell_type": "markdown",
   "metadata": {},
   "source": [
    "Imagine we have a typical six-sided die, that will give us a value in a finite range with equal probability. We can model this using <tt>np.random.randint</tt>"
   ]
  },
  {
   "cell_type": "code",
   "execution_count": null,
   "metadata": {
    "collapsed": false
   },
   "outputs": [],
   "source": [
    "np.random.randint?"
   ]
  },
  {
   "cell_type": "markdown",
   "metadata": {},
   "source": [
    "We can model a throw by using this method to randomly return a number between 1 and 6 inclusive:"
   ]
  },
  {
   "cell_type": "code",
   "execution_count": null,
   "metadata": {
    "collapsed": false
   },
   "outputs": [],
   "source": [
    "print(np.random.randint(1,7))"
   ]
  },
  {
   "cell_type": "markdown",
   "metadata": {},
   "source": [
    "Executing the cell again will give us another random answer (try it).\n",
    "\n",
    "To roll the die $n$=20 number of times, we can pass $n$ as a parameter to the method through the keyword <tt>size</tt>."
   ]
  },
  {
   "cell_type": "code",
   "execution_count": null,
   "metadata": {
    "collapsed": false
   },
   "outputs": [],
   "source": [
    "n = 20\n",
    "print(np.random.randint(1,7,size=n))"
   ]
  },
  {
   "cell_type": "markdown",
   "metadata": {},
   "source": [
    "So now imagine that we have two dice that we want to roll and each make note of the sum of their two values:"
   ]
  },
  {
   "cell_type": "code",
   "execution_count": null,
   "metadata": {
    "collapsed": false
   },
   "outputs": [],
   "source": [
    "ntimes = 50 \n",
    "d1 = np.random.randint(1,7,ntimes)\n",
    "d2 = np.random.randint(1,7,ntimes)\n",
    "sumdice = d1+d2 # we can do this, as d1 and d2 are each a np.array\n",
    "print(sumdice)"
   ]
  },
  {
   "cell_type": "markdown",
   "metadata": {},
   "source": [
    "If we repeat the rolling $n$ times, we will obtain a distribution. Plotting it will give us some indication (if we happened to skip that day of stats class), as will noting the mean and standard deviation"
   ]
  },
  {
   "cell_type": "markdown",
   "metadata": {},
   "source": [
    "## Reminder: watch the indentation!\n",
    "To define a function (comments are optional but often proved to be useful):\n",
    "```python\n",
    "def squared(x):\n",
    "    ''' This function returns the squared value of a number\n",
    "    :param x: value to be squared\n",
    "    :return: x**2\n",
    "    '''\n",
    "    res = x**2\n",
    "    return res\n",
    "```\n",
    "\n",
    "Using loops:\n",
    "```python \n",
    "for i in range(10):\n",
    "    print('i is equal to: \\n \\t %d \\n \\t %.4f \\n \\t %.1e' % (i,i,i))\n",
    "```"
   ]
  },
  {
   "cell_type": "markdown",
   "metadata": {},
   "source": [
    "**Q1.1 Begin by plotting the histogram of summed distribution, and printing the mean and standard deviation of the distribution**\n",
    "\n",
    "You will probably want to use the following functions (look them up if you're not sure what they do):\n",
    "```python\n",
    "    plt.hist(values,range=(?,?),bins=?)\n",
    "    np.array.mean()\n",
    "    np.array.std()\n",
    "```"
   ]
  },
  {
   "cell_type": "code",
   "execution_count": null,
   "metadata": {
    "collapsed": false
   },
   "outputs": [],
   "source": [
    "plt.hist(sumdice,range=(2,12),bins=11)\n",
    "print(\"mean=\", sumdice.mean())\n",
    "print(\"std dev=\",sumdice.std())here"
   ]
  },
  {
   "cell_type": "markdown",
   "metadata": {},
   "source": [
    "**Q1.2 Automating the dice throwing** can be performed by creating two functions:\n",
    "\n",
    "(1)\n",
    "```python\n",
    "    get_summed_dice(ntimes)\n",
    "```\n",
    "that generates the distribution of the summed dice for $n$ number of throws, and \n",
    "\n",
    "(2)\n",
    "```python\n",
    "    throw_dice(ntimes)\n",
    "```\n",
    "a wrapper function that takes in $n$ and creates, plots and prints the distribution.\n",
    "\n",
    "**Then for $n$ = 50, 500, 50000 throws, run the code and examine the resulting plots.**\n",
    "\n",
    "* Advanced: consider that you may want to extend the code - think about having more than two dice, or dice that have more (or less) than 6 faces, or not taking the sum but rather the product ... How would you write your code to allow to extend for these possibilities? "
   ]
  },
  {
   "cell_type": "code",
   "execution_count": null,
   "metadata": {
    "collapsed": false
   },
   "outputs": [],
   "source": [
    "def get_summed_dice(ntimes):\n",
    "    d1 = np.random.randint(1,7,ntimes)\n",
    "    d2 = np.random.randint(1,7,ntimes)\n",
    "    sumdice = d1+d2\n",
    "    return sumdice\n",
    "\n",
    "def print_stats(sumdice):\n",
    "    print(\"mean=\", sumdice.mean())\n",
    "    print(\"std dev=\",sumdice.std())\n",
    "    return sumdice.mean(), sumdice.std()\n",
    "\n",
    "def plot_dice(sumdice):\n",
    "    plt.figure() # plots it in a new figure each time\n",
    "    plt.hist(sumdice,range=(2,12),bins=11,normed=True)\n",
    "    \n",
    "def throw_dice(ntimes):\n",
    "    sumd = get_summed_dice(ntimes)\n",
    "    print_stats(sumd)\n",
    "    plot_dice(sumd)"
   ]
  },
  {
   "cell_type": "code",
   "execution_count": null,
   "metadata": {
    "collapsed": true
   },
   "outputs": [],
   "source": [
    "for i in [50,500,500000]:\n",
    "    throw_dice(i)"
   ]
  },
  {
   "cell_type": "markdown",
   "metadata": {},
   "source": [
    "**Q1.3 For large $n$, a Gaussian (normal) distribution approximates the sum of two uniform distributions**.\n",
    "\n",
    "If we have die 1 and die 2 giving $X_1$ and $X_2$, respectively, and if $Y$ is the sum of $X_1$ and $X_2$, then \n",
    "\n",
    "* $\\mu_y =\\mu_{x_1} + \\mu_{x_2}$\n",
    "* $\\sigma^2_y =\\sigma^2_{x_1} + \\sigma^2_{x_2}$\n",
    "\n",
    "\n",
    "Repeat the code from above, but also plotting the theoretical (analytical) distribution as well as the one you get from your measured values for the mean and standard deviation (numerical). **Hint:** you may want to have a look at norm.pdf from the scipy.stats package."
   ]
  },
  {
   "cell_type": "code",
   "execution_count": null,
   "metadata": {
    "collapsed": false
   },
   "outputs": [],
   "source": [
    "import math\n",
    "import scipy.stats as scist\n",
    "scist.norm.pdf?\n",
    "### some other hints\n",
    "#x = np.linspace(a,b,n) # takes n sample points between a and b\n",
    "#plt.plot(x,y1,'r--',label='sample1') # will plot y1 as a dashed red line\n",
    "#plt.plot(x,y2,'k-',label='sample2') # will plot y2 as a black solid line\n",
    "#plt.legend() # will turn on the legend so that labels 'sample1' and 'sample2' are visible"
   ]
  },
  {
   "cell_type": "code",
   "execution_count": null,
   "metadata": {
    "collapsed": false
   },
   "outputs": [],
   "source": [
    "def plot_normaldist(mean,sigma,label=None,linestyle=None):\n",
    "    x = np.linspace(0,15,100)\n",
    "    plt.plot(x,scist.norm.pdf(x,mean,sigma),linestyle,label=label)\n",
    "\n",
    "for i in [50,500,500000]:\n",
    "    throw_dice(i)\n",
    "    analytical_mean = 2*3.5\n",
    "    analytical_sigma_x = 35./12\n",
    "    analytical_sigma = math.sqrt(2*analytical_sigma_x)\n",
    "    plot_normaldist(analytical_mean,analytical_sigma,label='analytical',linestyle='k-')\n",
    "    plt.legend()"
   ]
  },
  {
   "cell_type": "markdown",
   "metadata": {},
   "source": [
    "**Advanced Q1.4:** extend the code by creating a new function that will allow us to throw $d$ number of dice $n$ times\n",
    "\n",
    "**Super advanced Q1.5**: further extend it by allowing the user to define whether they'd like to take the sum, mean or product of each throw."
   ]
  },
  {
   "cell_type": "code",
   "execution_count": null,
   "metadata": {
    "collapsed": false
   },
   "outputs": [],
   "source": [
    "#write your code here\n"
   ]
  },
  {
   "cell_type": "markdown",
   "metadata": {},
   "source": [
    "# Part 2: Fitting to Zombie data"
   ]
  },
  {
   "cell_type": "markdown",
   "metadata": {},
   "source": [
    "=========================================================================\n",
    "\n",
    "Dear Scientist\n",
    "\n",
    "Congratulations on passing the test! We now rely on you to combine this knowledge with your extraordinary intelligence and help us find a way to defeat the zombie outbreak! You will receive three assignments today and work towards a strategy to defeat the zombies next session!\n",
    "\n",
    "We count on you!\n",
    "\n",
    "Regards,\n",
    "\n",
    "The Earth Leaders"
   ]
  },
  {
   "cell_type": "markdown",
   "metadata": {},
   "source": [
    "=============================================================================================\n",
    "\n",
    "** Assignment One **\n",
    "\n",
    "Here your the first assignment:\n",
    "\n",
    "The number of people alive is given by a variable S. The number of zombies is given by the variable Z. We have currently collected data in different areas when the number of zombies was the same. \n",
    "\n",
    "Because people can be born, can die naturally, or can become infected with the zombie virus, the amount of S can change. We hypothesize that the change S is given by a polynomial of maximum order 3 (see below), but we want to find a more accurate estimate!\n",
    "\n",
    "$$ a + bS+ cS^2 + dS^3 $$\n",
    "\n",
    "The data is found in the file\n",
    "\n",
    "File: <tt>noisy1.dat</tt>\n",
    "\n",
    "Your tasks:\n",
    "\n",
    "1) Can you find the parameters?\n",
    "\n",
    "2) Comparing the parameter magnitudes, can we simplify our polynomial?\n",
    "\n",
    "3) Don't forget to plot the result!\n",
    "\n",
    "==============================================================================================="
   ]
  },
  {
   "cell_type": "code",
   "execution_count": null,
   "metadata": {
    "collapsed": false
   },
   "outputs": [],
   "source": [
    "# read in the file\n",
    "data = np.loadtxt('noisy1.dat')\n",
    "xs = data[0,:]\n",
    "ys = data[1,:]"
   ]
  },
  {
   "cell_type": "code",
   "execution_count": null,
   "metadata": {
    "collapsed": false
   },
   "outputs": [],
   "source": [
    "def guess_function1(x,c3,c2,c1,c0):\n",
    "    return c3*x**3 + c2*x**2 + c1*x + c0\n",
    "    #return  c2*x**2 + c1*x + c0\n",
    "\n",
    "\n",
    "p_est,pcov = opt.curve_fit(guess_function1, xdata=xs, ydata=ys,p0= (0.5,0.5,0.1,21.))\n",
    "print(p_est)\n",
    "\n",
    "plt.figure()\n",
    "y_guess = [guess_function1(x,p_est[0],p_est[1],p_est[2],p_est[3]) for x in xs]\n",
    "plt.plot(xs,y_guess)\n",
    "plt.plot(xs,ys)"
   ]
  },
  {
   "cell_type": "markdown",
   "metadata": {},
   "source": [
    "From the parameters, we see that we can neglect the second and third order terms and that a linear function is sufficient."
   ]
  },
  {
   "cell_type": "markdown",
   "metadata": {},
   "source": [
    "Thanks to your work, we have been able to adapt our model. The rate of change of people alive is given by\n",
    "\n",
    "$$dS/dt = P - B*S*Z - d*S$$\n",
    "\n",
    "where :\n",
    "\n",
    "    S: the number of susceptible victims\n",
    "    Z: the number of zombies\n",
    "    P: the population birth rate\n",
    "    d: the chance of a natural death\n",
    "    B: the chance the \"zombie disease\" is transmitted (an alive person becomes a zombie)\n",
    "    \n",
    "Based on our incoming data from New York, we estimated a value B=0.0095. No data shows natural deaths. Using your previous results and the equation above with B=0.0095, can you estimate the number of zombies Z that were in New York?\n"
   ]
  },
  {
   "cell_type": "code",
   "execution_count": null,
   "metadata": {
    "collapsed": false
   },
   "outputs": [],
   "source": [
    "B = 0.0095\n",
    "Z = p_est[2]/(-B)\n",
    "print(Z)"
   ]
  },
  {
   "cell_type": "code",
   "execution_count": null,
   "metadata": {
    "collapsed": true
   },
   "outputs": [],
   "source": [
    "'''\n",
    "#Data was generated using:\n",
    "P = 1\n",
    "B = 0.0095\n",
    "Z = 100\n",
    "xs = np.arange(0,50.,1.)\n",
    "ys = Z*B*xs + P\n",
    "noise = np.random.rand(len(ys))-0.5\n",
    "ys += noise*1\n",
    "plt.figure()\n",
    "plt.plot(xs,ys)\n",
    "np.savetxt('noisy1.dat',[xs,ys])\n",
    "'''"
   ]
  },
  {
   "cell_type": "markdown",
   "metadata": {},
   "source": [
    "=============================================================================================\n",
    "\n",
    "** Assignment Two **\n",
    "\n",
    "We have received new data showing the number of infected people during the past 25 days in Australia!\n",
    "\n",
    "The data is found in the file\n",
    "\n",
    "File: <tt>noisy2.dat</tt>\n",
    "\n",
    "We don't know whether the infection is contained, following a sinusoidal function, or whether it is spreading exponentially. Can you test which will give the best fit?\n",
    "\n",
    "Your tasks:\n",
    "\n",
    "1) Try to fit the data with a cosine-function.\n",
    "\n",
    "2) Try to fit the data with an exponential function.\n",
    "\n",
    "3) Plot the results. Which one matches the data better?\n",
    "\n",
    "==============================================================================================="
   ]
  },
  {
   "cell_type": "code",
   "execution_count": null,
   "metadata": {
    "collapsed": false
   },
   "outputs": [],
   "source": [
    "data = np.loadtxt('noisy2.dat')\n",
    "xs = data[0,:]\n",
    "ys = data[1,:]\n",
    "\n",
    "def guess_function2a(x,s1,s0):\n",
    "    return s1*np.cos(s0*x) \n",
    "def guess_function2b(x,e1,e0):\n",
    "    return e1*np.exp(x*e0)\n",
    "\n",
    "p_est,pcov = opt.curve_fit(guess_function2a, xdata=xs, ydata=ys,p0= (1.,1.))\n",
    "print(p_est)\n",
    "p_est2,pcov2 = opt.curve_fit(guess_function2b, xdata=xs, ydata=ys,p0= (1.,0.5))\n",
    "print(p_est2)\n",
    "\n",
    "plt.figure()\n",
    "y_guessa = [guess_function2a(x,p_est[0],p_est[1]) for x in xs]\n",
    "y_guessb = [guess_function2b(x,p_est2[0],p_est2[1]) for x in xs]\n",
    "plt.plot(xs,y_guessa)\n",
    "plt.plot(xs,y_guessb)\n",
    "plt.plot(xs,ys)"
   ]
  },
  {
   "cell_type": "code",
   "execution_count": null,
   "metadata": {
    "collapsed": false
   },
   "outputs": [],
   "source": [
    "'''\n",
    "#Data was generated using:\n",
    "xs = np.arange(0,25.,1)\n",
    "ys2 = np.cos(xs) + np.exp(xs*0.1)\n",
    "noise = 0.1*np.random.rand(len(ys2))-0.05\n",
    "ys2 += noise*5.5\n",
    "plt.figure()\n",
    "plt.plot(xs,ys2)\n",
    "np.savetxt('noisy2.dat',[xs,ys2])\n",
    "'''"
   ]
  },
  {
   "cell_type": "markdown",
   "metadata": {},
   "source": [
    "=============================================================================================\n",
    "\n",
    "** Assignment Three (Advanced) **\n",
    "\n",
    "Top secret data just arrived. We are currently trying to analyse it. We know the following data should contain multiple sinusoidal terms, however we don't know the parameters.\n",
    "\n",
    "The data is found in the file\n",
    "\n",
    "File: <tt>noisy3.dat</tt>\n",
    "\n",
    "Your task:\n",
    "\n",
    "1) Find the best fit using multiple sinusoidal terms.\n",
    "\n",
    "Hint: you may want to consider inspecting the data first to see whether you can get an indication as to how many frequencies there seem to be, as well as some initial values.\n",
    "\n",
    "==============================================================================================="
   ]
  },
  {
   "cell_type": "code",
   "execution_count": null,
   "metadata": {
    "collapsed": false
   },
   "outputs": [],
   "source": [
    "data = np.loadtxt('noisy3.dat')\n",
    "xs = data[0,:]\n",
    "ys = data[1,:]\n",
    "\n",
    "plt.figure()\n",
    "plt.plot(xs,ys)\n",
    "\n",
    "def guess_function3(x,s1,s0,e1,e0,p1,p0):\n",
    "    return s1*np.sin(x*s0) + e1*np.sin(x*e0) + p1*np.sin(x*p0)\n",
    "\n",
    "# again, this is also sensitive to initial conditions ... hence the tip about the frequency spectrum\n",
    "p_est,pcov = opt.curve_fit(guess_function3, xdata=xs, ydata=ys,p0= (1.,0.5,1.,1,1.,2.5))\n",
    "print(p_est)\n",
    "\n",
    "plt.figure()\n",
    "y_guess = [guess_function3(x,p_est[0],p_est[1],p_est[2],p_est[3],p_est[4],p_est[5]) for x in xs]\n",
    "plt.plot(xs,y_guess)\n",
    "plt.plot(xs,ys)"
   ]
  },
  {
   "cell_type": "code",
   "execution_count": null,
   "metadata": {
    "collapsed": false
   },
   "outputs": [],
   "source": [
    "\"\"\"\n",
    "#Data was generated using:\n",
    "xs = np.arange(-10.,10.,0.1)\n",
    "ys3 = np.sin(xs) + np.sin(xs*0.5) + np.sin(xs*2.5)\n",
    "noise = 0.1*np.random.rand(len(ys3))-0.05\n",
    "ys3 += noise*10.\n",
    "plt.figure()\n",
    "plt.plot(xs,ys3)\n",
    "np.savetxt('noisy3.dat',[xs,ys3])\n",
    "\"\"\""
   ]
  },
  {
   "cell_type": "markdown",
   "metadata": {},
   "source": [
    "-----------------------------------------\n",
    "Created by S.Jarvis, Nov 2013  \n",
    "Revised by J.Bono and G. Pernelle, Nov 2015, Nov 2016"
   ]
  }
 ],
 "metadata": {
  "anaconda-cloud": {},
  "kernelspec": {
   "display_name": "Python [Root]",
   "language": "python",
   "name": "Python [Root]"
  },
  "language_info": {
   "codemirror_mode": {
    "name": "ipython",
    "version": 3
   },
   "file_extension": ".py",
   "mimetype": "text/x-python",
   "name": "python",
   "nbconvert_exporter": "python",
   "pygments_lexer": "ipython3",
   "version": "3.5.1"
  }
 },
 "nbformat": 4,
 "nbformat_minor": 0
}
