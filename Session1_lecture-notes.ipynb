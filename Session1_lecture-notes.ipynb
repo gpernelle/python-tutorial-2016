{
 "cells": [
  {
   "cell_type": "markdown",
   "metadata": {},
   "source": [
    "(Note: we use python 3, because there is no good reason to use python 2 anymore)"
   ]
  },
  {
   "cell_type": "markdown",
   "metadata": {},
   "source": [
    "# Python Tutorial, Session 1\n",
    "\n",
    "# Zombie Apocalypse"
   ]
  },
  {
   "cell_type": "markdown",
   "metadata": {},
   "source": [
    "=========================================================================\n",
    "\n",
    "Dear Scientist\n",
    "\n",
    "A terrible virus is spreading, turning humans into zombies... \n",
    "\n",
    "If we cannot contain it, we are all in grave danger. We have selected you to follow this course, because we believe you have the skills to help us!\n",
    "\n",
    "First, we will give an introduction, followed by a small test. If you pass the test, we will provide you with data about the zombie outbreak. Hopefully your analysis of the data will lead to a solution and we can save the human race!\n",
    "\n",
    "Regards,\n",
    "\n",
    "The Earth Leaders\n",
    "\n",
    "========================================================================="
   ]
  },
  {
   "cell_type": "markdown",
   "metadata": {},
   "source": [
    "# 1. Introduction\n",
    "###  Why using python?\n",
    "- It’s free! And in times of Zombie outbreaks it is the best tool to use:\n",
    "- It has a lot of scientific libraries, and more are constantly being added.\n",
    "- It has a large scientific user community.\n",
    "- It’s easier for novices to learn than most of the mature alternatives."
   ]
  },
  {
   "cell_type": "markdown",
   "metadata": {},
   "source": [
    "### Opening jupyter notebooks\n",
    "- Launch from the command line with 'ipython notebook'. Alternatively, you can launch an ipython notebook from a python distribution like anaconda or canopy.\n",
    "- Create a new notebook.\n",
    "- Enter code or data in a cell and execute it pressing the run button or shift+enter.\n",
    "- In[#]: cell with inputs, Out[#]: output after execution of a input cell"
   ]
  },
  {
   "cell_type": "markdown",
   "metadata": {},
   "source": [
    "# 2. Some datatypes: Integers, floats, strings, booleans and lists"
   ]
  },
  {
   "cell_type": "markdown",
   "metadata": {},
   "source": [
    "### 2.1 Storing and casting datatypes\n",
    "We store datatypes by assigning them into variables. Assign the float 5.6 into the variable 'a' and the float 10.4 into the variable 'b'. Then, calculate 'c = a+b'"
   ]
  },
  {
   "cell_type": "code",
   "execution_count": null,
   "metadata": {
    "collapsed": true
   },
   "outputs": [],
   "source": [
    "a = 10.4\n",
    "b = 5.6\n",
    "c = a + b"
   ]
  },
  {
   "cell_type": "markdown",
   "metadata": {},
   "source": [
    "The sum is now stored in the variable c. You can check the result using the print() function:"
   ]
  },
  {
   "cell_type": "code",
   "execution_count": null,
   "metadata": {
    "collapsed": false
   },
   "outputs": [],
   "source": [
    "print(c)"
   ]
  },
  {
   "cell_type": "markdown",
   "metadata": {},
   "source": [
    "We can cast the some datatypes into eachother easily in Python using the functions int(), float(), str(). Try out a few!"
   ]
  },
  {
   "cell_type": "code",
   "execution_count": null,
   "metadata": {
    "collapsed": false
   },
   "outputs": [],
   "source": [
    "int(5.7)"
   ]
  },
  {
   "cell_type": "markdown",
   "metadata": {},
   "source": [
    "Next, let's evaluate the inequality c < 11 ..."
   ]
  },
  {
   "cell_type": "code",
   "execution_count": null,
   "metadata": {
    "collapsed": false
   },
   "outputs": [],
   "source": [
    "c<11"
   ]
  },
  {
   "cell_type": "markdown",
   "metadata": {},
   "source": [
    "The resulting datatype is called a <b>boolean</b>, and can be True or False (Note: python is case sensitive, ie defining \"x = true\" instead of \"x = True\" won't work...)"
   ]
  },
  {
   "cell_type": "markdown",
   "metadata": {},
   "source": [
    "Finally, we can store a <b>list</b> using square brackets:"
   ]
  },
  {
   "cell_type": "code",
   "execution_count": null,
   "metadata": {
    "collapsed": false
   },
   "outputs": [],
   "source": [
    "d = [1,2,3]\n",
    "print(d)"
   ]
  },
  {
   "cell_type": "markdown",
   "metadata": {},
   "source": [
    "You can make a list of strings, booleans, etc... But we will mainly work with vectors and matrices of numbers. For this purpose, there is a library called <b>numpy</b> which will help us a lot."
   ]
  },
  {
   "cell_type": "markdown",
   "metadata": {},
   "source": [
    "Finally, you should aim to put clear comments in your code. It will be helpful when other people read the code, but also for yourself! In Python, everything following a # is a comment."
   ]
  },
  {
   "cell_type": "code",
   "execution_count": null,
   "metadata": {
    "collapsed": false
   },
   "outputs": [],
   "source": [
    "# This is a comment"
   ]
  },
  {
   "cell_type": "markdown",
   "metadata": {},
   "source": [
    "# 3. Libraries: Numpy, Scipy and Matplotlib"
   ]
  },
  {
   "cell_type": "markdown",
   "metadata": {},
   "source": [
    "Today, we turn to scientific and numerical Python. The outline is:\n",
    "\n",
    "* What are Numpy and Scipy?\n",
    "* Mathematical operators\n",
    "* Array wrangling\n",
    "* Random variables and plotting\n",
    "* Data fitting\n",
    "* Links and other resources"
   ]
  },
  {
   "cell_type": "markdown",
   "metadata": {},
   "source": [
    "### 3.1 Setting up: Importing Scipy, NumPy and Matplotlib"
   ]
  },
  {
   "cell_type": "markdown",
   "metadata": {},
   "source": [
    "<a href=\"http://xkcd.com/353/\"><b> Fly with python! </b></a>"
   ]
  },
  {
   "cell_type": "markdown",
   "metadata": {},
   "source": [
    "In python, we have to import the libraries that we will use in the beginning of the document. For example, a library we will use to work with numbers and arrays is called <b>numpy</b>. We will therefore write 'import numpy' in the beginning of our document."
   ]
  },
  {
   "cell_type": "code",
   "execution_count": null,
   "metadata": {
    "collapsed": true
   },
   "outputs": [],
   "source": [
    "import numpy"
   ]
  },
  {
   "cell_type": "markdown",
   "metadata": {},
   "source": [
    "We can now use this library, as a first example, let's calculate the arccosh(5), using numpy.arccosh(...):"
   ]
  },
  {
   "cell_type": "code",
   "execution_count": null,
   "metadata": {
    "collapsed": false
   },
   "outputs": [],
   "source": [
    "numpy.arccosh(5)"
   ]
  },
  {
   "cell_type": "markdown",
   "metadata": {},
   "source": [
    "To avoid writing 'numpy' every time we call a numpy function, we can define an <b>alias</b> for numpy. It can be done easily in python by writing 'import numpy as np'. Now we defined 'np' as the alias for numpy, and we can for example use the shorter 'np.arccosh'. Go ahead and modify the above lines! Make sure to re-run them!"
   ]
  },
  {
   "cell_type": "markdown",
   "metadata": {},
   "source": [
    "Numpy is a great library to work with vectors and matrices. They are both <b>numpy array</b> datatypes. We can create a numpy array using the numpy.array() function. In the following line, create a numpy array from a list [1,2,3] and store the array in the varriable 'v1'."
   ]
  },
  {
   "cell_type": "code",
   "execution_count": null,
   "metadata": {
    "collapsed": false
   },
   "outputs": [],
   "source": [
    "import numpy as np\n",
    "v1 = np.array([1,2,3])"
   ]
  },
  {
   "cell_type": "markdown",
   "metadata": {},
   "source": [
    "Now create a numpy array from a second list, [4,5,6], and store it in the variable 'v2'"
   ]
  },
  {
   "cell_type": "code",
   "execution_count": null,
   "metadata": {
    "collapsed": true
   },
   "outputs": [],
   "source": [
    "v2 = np.array([4,5,6])"
   ]
  },
  {
   "cell_type": "markdown",
   "metadata": {},
   "source": [
    "Let's do a vector/matrix multiplication of v1 times v2 by using the @ operator. Store the result in a variable 'v3' and print the result."
   ]
  },
  {
   "cell_type": "code",
   "execution_count": null,
   "metadata": {
    "collapsed": false
   },
   "outputs": [],
   "source": [
    "v3 = v1@v2\n",
    "print(v3)"
   ]
  },
  {
   "cell_type": "markdown",
   "metadata": {},
   "source": [
    "The 'naive' multiplication using the asterisk will return an array of element-wise multiplications (this is like using a dot before the operation symbol in Matlab). Try it!"
   ]
  },
  {
   "cell_type": "code",
   "execution_count": null,
   "metadata": {
    "collapsed": false
   },
   "outputs": [],
   "source": [
    "v1*v2"
   ]
  },
  {
   "cell_type": "markdown",
   "metadata": {},
   "source": [
    "Another useful package with scientific tools is scipy. Import scipy below:"
   ]
  },
  {
   "cell_type": "code",
   "execution_count": null,
   "metadata": {
    "collapsed": false
   },
   "outputs": [],
   "source": [
    "import scipy"
   ]
  },
  {
   "cell_type": "markdown",
   "metadata": {},
   "source": [
    "We're also going to be doing a little bit of plotting. Python has a plotting library <tt>matplotlib</tt> especially for this, so we're going to import matplotlibs procedural interface <tt>pylab</tt>.<br>\n",
    "<u>Note:</u> If you need to plot a lot of points, you should have a look to <a href=\"http://bokeh.pydata.org/en/latest/\">Bokeh</a> (which can use GPU to render graphics)"
   ]
  },
  {
   "cell_type": "markdown",
   "metadata": {},
   "source": [
    "Import pylab, and tell it also to show pylab plots inline i.e. in the notebook:"
   ]
  },
  {
   "cell_type": "code",
   "execution_count": null,
   "metadata": {
    "collapsed": false
   },
   "outputs": [],
   "source": [
    "%pylab inline\n",
    "import pylab as plt\n",
    "# import seaborn as sns"
   ]
  },
  {
   "cell_type": "markdown",
   "metadata": {},
   "source": [
    "### (A Brief Sideline tour into the Math package)"
   ]
  },
  {
   "cell_type": "markdown",
   "metadata": {},
   "source": [
    "Although today is about Numpy and Scipy, another (smaller) useful package is the <tt>math</tt> package. It contains mathematical constants, as well as some mathematical functions which aren't implemented elsewhere:"
   ]
  },
  {
   "cell_type": "code",
   "execution_count": null,
   "metadata": {
    "collapsed": false
   },
   "outputs": [],
   "source": [
    "# another useful library is math, which \n",
    "import math\n",
    "print(math.pi)\n",
    "print(math.e)\n",
    "print(math.sqrt(2))\n",
    "n = np.NaN #NaN = not a number\n",
    "print(math.isnan(n))"
   ]
  },
  {
   "cell_type": "code",
   "execution_count": null,
   "metadata": {
    "collapsed": false
   },
   "outputs": [],
   "source": [
    "dir(math) #display all attributes of math package"
   ]
  },
  {
   "cell_type": "markdown",
   "metadata": {},
   "source": [
    "### 3.2 Mathematical operators"
   ]
  },
  {
   "cell_type": "markdown",
   "metadata": {},
   "source": [
    "Numpy arrays are treated as a collection of numerical values. This means that applying an operator or function to the array is equivalent to applying the operator/function to each element:"
   ]
  },
  {
   "cell_type": "code",
   "execution_count": null,
   "metadata": {
    "collapsed": false
   },
   "outputs": [],
   "source": [
    "# we can create our range of x values using np.arange\n",
    "x = np.arange(0,10.,0.01)\n",
    "# or using linspace\n",
    "x2 = np.linspace(0,10.,1001)\n",
    "y = np.sin(x)\n",
    "z = np.exp(-x)\n"
   ]
  },
  {
   "cell_type": "code",
   "execution_count": null,
   "metadata": {
    "collapsed": false
   },
   "outputs": [],
   "source": [
    "# and plot y = f(x)\n",
    "#creates a new plot\n",
    "plt.figure() \n",
    "# ... and plot our curves\n",
    "plt.plot(x,y,'b-',label='sin')   #plots sin\n",
    "plt.plot(x,z,'k--',label='exp')  #plots exp\n",
    "plt.legend()                     #shows the legend"
   ]
  },
  {
   "cell_type": "markdown",
   "metadata": {},
   "source": [
    "Some other functions that you may come across:\n",
    "\n",
    "    np.cov\n",
    "    np.cumsum\n",
    "    np.dot\n",
    "    np.exp\n",
    "    np.mean\n",
    "    ..."
   ]
  },
  {
   "cell_type": "markdown",
   "metadata": {},
   "source": [
    "One word of warning: lists and arrays look similar, but when it comes to mathematical operators, then it's clear that they are **not** the same:"
   ]
  },
  {
   "cell_type": "code",
   "execution_count": null,
   "metadata": {
    "collapsed": false
   },
   "outputs": [],
   "source": [
    "# create a list: \n",
    "mylist = range(5)\n",
    "# create a numpy array:\n",
    "myarray = np.arange(5)\n",
    "# have a look at them both:\n",
    "print(mylist)\n",
    "print(myarray)\n",
    "# they look the same ....\n",
    "# but they don't act the same\n",
    "print(\"Let's multiply them:\")\n",
    "print(mylist*2)\n",
    "print(myarray*2)"
   ]
  },
  {
   "cell_type": "markdown",
   "metadata": {},
   "source": [
    "# 4 Array manipulation"
   ]
  },
  {
   "cell_type": "markdown",
   "metadata": {},
   "source": [
    "### 4.1 Creating and reshaping arrays"
   ]
  },
  {
   "cell_type": "markdown",
   "metadata": {},
   "source": [
    "As we did above, an array can be created from a list using np.array(), or using np.arange(), np.linspace() etc... Some other methods that are useful for creating arrays initialised with zeros or ones:"
   ]
  },
  {
   "cell_type": "code",
   "execution_count": null,
   "metadata": {
    "collapsed": false
   },
   "outputs": [],
   "source": [
    "empty = np.zeros(15)\n",
    "print(empty)\n",
    "full = np.ones(25)\n",
    "print(full)\n"
   ]
  },
  {
   "cell_type": "markdown",
   "metadata": {},
   "source": [
    "Reshaping an array:"
   ]
  },
  {
   "cell_type": "code",
   "execution_count": null,
   "metadata": {
    "collapsed": false
   },
   "outputs": [],
   "source": [
    "#reshaping it\n",
    "full_square = full.reshape((5,5))\n",
    "print(full_square)\n",
    "# we could have also specified :\n",
    "#print 'Alternatively ...'\n",
    "#full_square2 = np.ones((5,5))\n",
    "#print full_square2"
   ]
  },
  {
   "cell_type": "markdown",
   "metadata": {},
   "source": [
    "Other useful methods are <tt>nonzero()</tt>, returning the index of nonzero elements and len(), which will return its length. A useful way to get information in python is by using a question mark:"
   ]
  },
  {
   "cell_type": "code",
   "execution_count": null,
   "metadata": {
    "collapsed": true
   },
   "outputs": [],
   "source": [
    "np.nonzero?"
   ]
  },
  {
   "cell_type": "code",
   "execution_count": null,
   "metadata": {
    "collapsed": false
   },
   "outputs": [],
   "source": [
    "spikes = np.array([0,0,0,1,0,1,0,0,1,0])\n",
    "spiketimes = spikes.nonzero()[0] # and remember that in Python, indexing begins at 0!\n",
    "print('Nonzero entries for spikes = ', spiketimes)\n",
    "print('Observed: %g spikes'%len(spiketimes))"
   ]
  },
  {
   "cell_type": "markdown",
   "metadata": {},
   "source": [
    "Observe the <b>%g</b> in the string above, which means a 'general datatype' will substitute this part of the string. The datatype is given following another %. In our case, it will be the length of the array spiketimes."
   ]
  },
  {
   "cell_type": "markdown",
   "metadata": {},
   "source": [
    "### 4.2 Array indexing, array slicing"
   ]
  },
  {
   "cell_type": "markdown",
   "metadata": {},
   "source": [
    "#### <u>Note: big difference with Matlab: python indexing starts at 0!</u>"
   ]
  },
  {
   "cell_type": "code",
   "execution_count": null,
   "metadata": {
    "collapsed": false
   },
   "outputs": [],
   "source": [
    "ar = np.arange(0,10,1)\n",
    "print('full array: ', ar)\n",
    "print('first 3 elements', ar[:3])\n",
    "print('last 4 elements', ar[-4:])\n",
    "print('array without the first 2 elements', ar[2:])\n",
    "print('array without the last 2 elements', ar[:-2])"
   ]
  },
  {
   "cell_type": "markdown",
   "metadata": {},
   "source": [
    "### 4.3 Array vs List"
   ]
  },
  {
   "cell_type": "code",
   "execution_count": null,
   "metadata": {
    "collapsed": false
   },
   "outputs": [],
   "source": [
    "list1 = [i for i in range(10)]\n",
    "list2 = [9-i for i in range(10)]\n",
    "print('array: ', ar)\n",
    "print('list1: ',list1)\n",
    "print('list2: ',list2)\n",
    "print('list concatenation: list1+list2: ', list1+list2)\n",
    "print('for array concatenation, use np.concatenate')"
   ]
  },
  {
   "cell_type": "markdown",
   "metadata": {},
   "source": [
    "Arrays and lists can be converted into eachother.  \n",
    "list -> array: np.array(list)  \n",
    "array -> list: array.tolist()"
   ]
  },
  {
   "cell_type": "code",
   "execution_count": null,
   "metadata": {
    "collapsed": false
   },
   "outputs": [],
   "source": [
    "ar1 = np.array(list1)\n",
    "print('np.array(list1) == ar', ar1 == ar)\n",
    "print('list1 == ar.tolist()',list1 == ar.tolist())"
   ]
  },
  {
   "cell_type": "markdown",
   "metadata": {},
   "source": [
    "# 5. Random variables"
   ]
  },
  {
   "cell_type": "markdown",
   "metadata": {},
   "source": [
    "### 5.1 Generate random variables"
   ]
  },
  {
   "cell_type": "markdown",
   "metadata": {},
   "source": [
    "Numpy has an extensive package of random variables for several useful distributions:"
   ]
  },
  {
   "cell_type": "code",
   "execution_count": null,
   "metadata": {
    "collapsed": false
   },
   "outputs": [],
   "source": [
    "np.random?"
   ]
  },
  {
   "cell_type": "code",
   "execution_count": null,
   "metadata": {
    "collapsed": false
   },
   "outputs": [],
   "source": [
    "# As we're going to be plotting our distribution using a histogram ...:\n",
    "plt.hist?"
   ]
  },
  {
   "cell_type": "markdown",
   "metadata": {},
   "source": [
    "to get a random integer between 0 and 10 from an uniform distribution:"
   ]
  },
  {
   "cell_type": "code",
   "execution_count": null,
   "metadata": {
    "collapsed": false
   },
   "outputs": [],
   "source": [
    "np.random.randint(0,10)"
   ]
  },
  {
   "cell_type": "markdown",
   "metadata": {},
   "source": [
    "to get a random floating point between 0 and 1 from a uniform distribution"
   ]
  },
  {
   "cell_type": "code",
   "execution_count": null,
   "metadata": {
    "collapsed": false
   },
   "outputs": [],
   "source": [
    "np.random.rand()"
   ]
  },
  {
   "cell_type": "markdown",
   "metadata": {},
   "source": [
    "A commonly occurring distibution is the Gaussian or Normal distribution. The specifier loc defines the mean, the specifier scale defines the standard deviation."
   ]
  },
  {
   "cell_type": "code",
   "execution_count": null,
   "metadata": {
    "collapsed": false
   },
   "outputs": [],
   "source": [
    "np.random.normal?\n",
    "#xgauss = np.random.normal(loc=0,scale=1.,size=5000)\n",
    "#print xgauss[:10] #print first 10 counts\n",
    "#counts,binx,p = pylab.hist(xgauss,bins=50,histtype='stepfilled',lw=2)"
   ]
  },
  {
   "cell_type": "markdown",
   "metadata": {},
   "source": [
    "We also have the uniform distribution:"
   ]
  },
  {
   "cell_type": "code",
   "execution_count": null,
   "metadata": {
    "collapsed": false
   },
   "outputs": [],
   "source": [
    "xuniform = np.random.uniform(low=0.,high=5.,size=5000)\n",
    "counts,binx,p = pylab.hist(xuniform,bins=20,color='b',lw=2)"
   ]
  },
  {
   "cell_type": "markdown",
   "metadata": {},
   "source": [
    "As well as an exponential distribution:"
   ]
  },
  {
   "cell_type": "code",
   "execution_count": null,
   "metadata": {
    "collapsed": false
   },
   "outputs": [],
   "source": [
    "xexp = np.random.exponential(scale=10.,size=5000)\n",
    "plt.figure()\n",
    "counts,binx,p = pylab.hist(xexp,bins=50,color='#558888')\n",
    "# Let's create a 2nd plot and plot it on a log scale\n",
    "#pylab.figure()\n",
    "#counts,binx,p = pylab.hist(xexp,bins=50,color='#555588',log=True)"
   ]
  },
  {
   "cell_type": "markdown",
   "metadata": {},
   "source": [
    "We can also have 2-dimensional distributions (independently distributed):"
   ]
  },
  {
   "cell_type": "code",
   "execution_count": null,
   "metadata": {
    "collapsed": false
   },
   "outputs": [],
   "source": [
    "nsample = 5000\n",
    "x = np.random.normal(loc=15,scale=.9,size=nsample)\n",
    "y = np.random.normal(loc=15,scale=3.,size=nsample)\n",
    "plt.scatter(x,y,marker='.')\n",
    "plt.xlim([0,30])\n",
    "plt.ylim([0,30])"
   ]
  },
  {
   "cell_type": "markdown",
   "metadata": {},
   "source": [
    "We can also create a correlated 2-dimensional sample:\n",
    "\n",
    "Note that we could go through and calculate it point by point. However, it's much more economical time-wise to add each pair of x,y values to a list, and plot once."
   ]
  },
  {
   "cell_type": "code",
   "execution_count": null,
   "metadata": {
    "collapsed": false
   },
   "outputs": [],
   "source": [
    "nsample = 5000\n",
    "xs = []\n",
    "ys = []\n",
    "for i in range(nsample):\n",
    "    x = np.random.normal(loc=15,scale=2.9)\n",
    "    y = np.random.normal(loc=x,scale=3.2)\n",
    "    xs.append(x)\n",
    "    ys.append(y)\n",
    "plt.scatter(xs,ys,marker='.')\n",
    "plt.xlim([0,30])\n",
    "plt.ylim([0,30])"
   ]
  },
  {
   "cell_type": "markdown",
   "metadata": {},
   "source": [
    "### 5.2 Getting statistics for a distribution"
   ]
  },
  {
   "cell_type": "markdown",
   "metadata": {},
   "source": [
    "If our distribution is contained within an np.array, we can also extract information about it, such as the mean, max, min, standard deviation, and so on. (note: many numpy attributes can be called directly on a numpy array, e.g. np.mean(x) and x.mean() will give the same result)"
   ]
  },
  {
   "cell_type": "code",
   "execution_count": null,
   "metadata": {
    "collapsed": false
   },
   "outputs": [],
   "source": [
    "xgauss = np.array(xs)\n",
    "print(xgauss.mean())\n",
    "print(xgauss.min())\n",
    "print(xgauss.max())\n",
    "print(xgauss.var())\n",
    "print(xgauss.std())\n",
    "print('Size = ', xgauss.size)\n",
    "print('Shape = ', xgauss.shape)\n",
    "# we can also sort the distribution so that we can print the first and last 10 values:\n",
    "#xgauss.sort()\n",
    "#print xgauss[:10]\n",
    "#print xgauss[-10:]"
   ]
  },
  {
   "cell_type": "markdown",
   "metadata": {},
   "source": [
    "# 6. Fitting to data"
   ]
  },
  {
   "cell_type": "markdown",
   "metadata": {},
   "source": [
    "Typically, any real world data that we sample will contain noise. To see the underlying trend, we apply lines of best fit to a guesstimate of a function. \n",
    "\n",
    "So let's take the following example and see how we would do this in Python:"
   ]
  },
  {
   "cell_type": "code",
   "execution_count": null,
   "metadata": {
    "collapsed": false
   },
   "outputs": [],
   "source": [
    "xdata = np.arange(0.,10,0.5)\n",
    "ydata = np.array([ 1.51857514,  1.42458875,  1.41926385, 1.37091408,  1.32024492,  \\\n",
    "1.2866089,  1.28318037, 1.29348598,  1.27677052,  1.24217704,  1.21581629, 1.17495956, \\\n",
    "1.26244135,  1.23061109, 1.1736758, 1.24091197,  1.2419271,   1.16957437, 1.23946647, 1.18182487])\n",
    "print(ydata)\n",
    "plt.scatter(xdata,ydata,marker='.')"
   ]
  },
  {
   "cell_type": "markdown",
   "metadata": {},
   "source": [
    "We can fit functions in Python by using the Scipy.optimize package and the curve_fit function:"
   ]
  },
  {
   "cell_type": "code",
   "execution_count": null,
   "metadata": {
    "collapsed": false
   },
   "outputs": [],
   "source": [
    "import scipy.optimize as opt"
   ]
  },
  {
   "cell_type": "code",
   "execution_count": null,
   "metadata": {
    "collapsed": false
   },
   "outputs": [],
   "source": [
    "opt.curve_fit?"
   ]
  },
  {
   "cell_type": "markdown",
   "metadata": {},
   "source": [
    "The example they give in the documentation illustrates it quite nicely:\n",
    "\n",
    "    def func(x, a, b, c):\n",
    "        # a function of the form : a*e^{-bx} + c\n",
    "        return a*np.exp(-b*x) + c\n",
    "\n",
    "    x = np.linspace(0,4,50)\n",
    "    y = func(x, 2.5, 1.3, 0.5)\n",
    "    # add in some noise\n",
    "    yn = y + 0.2*np.random.normal(size=len(x))\n",
    "\n",
    "    popt, pcov = curve_fit(func, x, yn)\n",
    "    # returns estimates of a,b and c (popt), as well as the covariance of the fit.\n",
    "\n",
    "A decaying exponential is not a bad choice as a first fit, so let's start with that:\n",
    "$y = ae^{-x/\\tau} + c$\n",
    "\n",
    "Note that as we're interested in time-constants, we're going to express $b = 1/\\tau$.\n",
    "\n",
    "So, we start by defining our guess function:"
   ]
  },
  {
   "cell_type": "code",
   "execution_count": null,
   "metadata": {
    "collapsed": false
   },
   "outputs": [],
   "source": [
    "def guess_function(x,a,tau,offset):\n",
    "    return a*np.exp(-x/tau)+offset"
   ]
  },
  {
   "cell_type": "markdown",
   "metadata": {},
   "source": [
    "And then simply use opt.curve_fit with our data and our guess of the function. We have to supply some initial values so that the algorithm can have a starting . From visual inspection of the plot above, $c =$(offset) is approximately 1, a is approximately 0.5, and $\\tau$ is small, so we'll choose $\\tau=$ 1.\n",
    "\n",
    "Applying the data gives us:"
   ]
  },
  {
   "cell_type": "code",
   "execution_count": null,
   "metadata": {
    "collapsed": false
   },
   "outputs": [],
   "source": [
    "param_guess = (0.5,1.,1.)\n",
    "param_est,pcov = opt.curve_fit(guess_function, xdata, ydata, param_guess)\n",
    "print(param_est)"
   ]
  },
  {
   "cell_type": "markdown",
   "metadata": {},
   "source": [
    "We can see the parameters that it's returned, so let's plot our function using our new values:"
   ]
  },
  {
   "cell_type": "code",
   "execution_count": null,
   "metadata": {
    "collapsed": false
   },
   "outputs": [],
   "source": [
    "a_est,tau_est,offset_est = param_est[0],param_est[1],param_est[2]\n",
    "print('estimates for a=%.2f, tau=%.2f, offset=%.2f'%(a_est,tau_est,offset_est))\n",
    "# scatter plot our data as before\n",
    "plt.scatter(xdata,ydata,marker='.')\n",
    "# get our fitted data. Note that we can give an array to our function as well as a single x value!\n",
    "newy = guess_function(xdata,a_est,tau_est,offset_est) \n",
    "plt.plot(xdata,newy)"
   ]
  },
  {
   "cell_type": "markdown",
   "metadata": {},
   "source": [
    "That's not bad. Actually, it's quite impressive as, as the original function was:\n",
    "\n",
    "$$y = 0.3e^{-x/2.13} + 1.2$$\n",
    "\n",
    "and the code used to generate it was:\n",
    "\n",
    "    original_y = 0.3*np.exp(-xdata/2.13) + 1.2 \n",
    "    noise = 0.1*np.random.rand(len(ydata))-0.05\n",
    "    original_y += noise\n",
    "   \n",
    "How good was our line of best fit in comparison to the original?"
   ]
  },
  {
   "cell_type": "code",
   "execution_count": null,
   "metadata": {
    "collapsed": false
   },
   "outputs": [],
   "source": [
    "original_y = guess_function(xdata,0.3,2.13,1.2)\n",
    "newy = guess_function(xdata,a_est,tau_est,offset_est)\n",
    "print('estimates for a=%.2f, tau=%.2f, offset=%.2f'%(a_est,tau_est,offset_est))\n",
    "plt.scatter(xdata,ydata,marker='.')\n",
    "plt.plot(xdata,newy,'b-',label='fitted')\n",
    "# now we also go through and plot our oritinal distribution\n",
    "plt.plot(xdata,original_y,'r--',label='original')\n",
    "plt.xlim(-1,10)\n",
    "plt.legend()\n"
   ]
  },
  {
   "cell_type": "markdown",
   "metadata": {},
   "source": [
    "# 7. Indentation"
   ]
  },
  {
   "cell_type": "markdown",
   "metadata": {},
   "source": [
    "**Loops** and **functions** are not closed by 'end' or brackets, but **indentation** determines the inside and outside! \n",
    "\n",
    "Also, the first line (defining the loop or function), is always ended by a **colon**. In python, the colon declares the start of an indented block of code which should follow in the next lines!\n",
    "\n",
    "Examples:\n",
    "\n",
    "To define a function (comments are optional but often proved to be useful):\n",
    "```python\n",
    "def squared(x):\n",
    "    ''' This function returns the squared value of a number\n",
    "    :param x: value to be squared\n",
    "    :return: x**2\n",
    "    '''\n",
    "    # the next two lines are inside the function:\n",
    "    res = x**2\n",
    "    return res\n",
    "    \n",
    "print('this is outside the function')\n",
    "```\n",
    "\n",
    "Using loops:\n",
    "```python \n",
    "for ii in range(5):\n",
    "    str1 = 'this is inside the loop'\n",
    "    print(ii)\n",
    "str2 = 'this is outside the loop'\n",
    "```   "
   ]
  },
  {
   "cell_type": "markdown",
   "metadata": {},
   "source": [
    "# Some differences with matlab to keep in mind..."
   ]
  },
  {
   "cell_type": "markdown",
   "metadata": {},
   "source": [
    "- Index of arrays starts at 0  \n",
    "- No need for semicolon in the end of lines  \n",
    "- Integers vs floats (see section 2.1)  \n",
    "- Loops and functions : **indentation** determines the inside and outside! The first line is always ended by a colon."
   ]
  },
  {
   "cell_type": "markdown",
   "metadata": {},
   "source": [
    "# Links and other resources"
   ]
  },
  {
   "cell_type": "markdown",
   "metadata": {},
   "source": [
    "* Pylab gallery : \n",
    " * http://matplotlib.org/gallery.html\n",
    "* Numpy <--> MATLAB syntax conversion : \n",
    " * http://wiki.scipy.org/NumPy_for_Matlab_Users\n",
    " * http://mathesaurus.sourceforge.net/matlab-numpy.html\n",
    "* Scipy:\n",
    " * http://wiki.scipy.org/Cookbook"
   ]
  },
  {
   "cell_type": "markdown",
   "metadata": {},
   "source": [
    "-----------------------------------------  \n",
    "Created by S. Jarvis, November 2013  \n",
    "Edited J. Bono and G. Pernelle, November 2015"
   ]
  }
 ],
 "metadata": {
  "anaconda-cloud": {},
  "kernelspec": {
   "display_name": "Python [Root]",
   "language": "python",
   "name": "Python [Root]"
  },
  "language_info": {
   "codemirror_mode": {
    "name": "ipython",
    "version": 3
   },
   "file_extension": ".py",
   "mimetype": "text/x-python",
   "name": "python",
   "nbconvert_exporter": "python",
   "pygments_lexer": "ipython3",
   "version": "3.5.1"
  }
 },
 "nbformat": 4,
 "nbformat_minor": 0
}
